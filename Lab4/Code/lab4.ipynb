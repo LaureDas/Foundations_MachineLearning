{
 "cells": [
  {
   "cell_type": "code",
   "execution_count": 42,
   "metadata": {},
   "outputs": [],
   "source": [
    "import numpy as np\n",
    "import matplotlib.pyplot as plt\n",
    "from loadMnist import loadMnist\n",
    "from kNN import kNN "
   ]
  },
  {
   "cell_type": "code",
   "execution_count": 43,
   "metadata": {},
   "outputs": [
    {
     "name": "stdout",
     "output_type": "stream",
     "text": [
      "[0 1 2 3 4 5 6 7 8 9]\n"
     ]
    }
   ],
   "source": [
    "# Load training and test data\n",
    "trainingImages, trainingLabels = loadMnist('training')\n",
    "testImages, testLabels = loadMnist('testing')\n",
    "\n",
    "#all the labels we have\n",
    "print(np.unique(trainingLabels))"
   ]
  },
  {
   "cell_type": "code",
   "execution_count": 44,
   "metadata": {},
   "outputs": [],
   "source": [
    "# Keep a subset of the training (60,000 images) and test (10,000) data\n",
    "trainingImages = trainingImages[:2000,:]\n",
    "trainingLabels = trainingLabels[:2000]\n",
    "\n",
    "# Test for only a subset of the dataset (e.g., 20 images) to keep the running time relatively low\n",
    "testImages = testImages[:20,:]\n",
    "testLabels = testLabels[:20]"
   ]
  },
  {
   "cell_type": "code",
   "execution_count": 45,
   "metadata": {},
   "outputs": [
    {
     "data": {
      "image/png": "[encoded data removed]",
      "text/plain": [
       "<Figure size 432x288 with 10 Axes>"
      ]
     },
     "metadata": {
      "needs_background": "light"
     },
     "output_type": "display_data"
    }
   ],
   "source": [
    "# Show the first ten digits\n",
    "fig = plt.figure('First 10 Digits') \n",
    "for i in range(10):\n",
    "    a = fig.add_subplot(2,5,i+1) \n",
    "    plt.imshow(testImages[i,:].reshape(28,28), cmap=plt.cm.gray)\n",
    "    plt.axis('off')\n",
    "\n",
    "plt.show()"
   ]
  },
  {
   "cell_type": "code",
   "execution_count": null,
   "metadata": {},
   "outputs": [],
   "source": []
  },
  {
   "cell_type": "code",
   "execution_count": 46,
   "metadata": {},
   "outputs": [
    {
     "data": {
      "text/plain": [
       "(784,)"
      ]
     },
     "execution_count": 46,
     "metadata": {},
     "output_type": "execute_result"
    }
   ],
   "source": [
    "#we flattened the images into vectors for simplicity\n",
    "trainingImages[0].shape"
   ]
  },
  {
   "cell_type": "code",
   "execution_count": null,
   "metadata": {},
   "outputs": [],
   "source": []
  },
  {
   "cell_type": "markdown",
   "metadata": {},
   "source": []
  },
  {
   "cell_type": "code",
   "execution_count": 47,
   "metadata": {},
   "outputs": [],
   "source": [
    "# Run kNN algorithm\n",
    "import numpy as np\n",
    "\n",
    "def kNN(k, X, labels, y):\n",
    "    # Assigns to the test instance the label of the majority of the labels of the k closest \n",
    "\t# training examples using the kNN with euclidean distance.\n",
    "    #\n",
    "    # Input: k: number of nearest neighbors\n",
    "    #        X: training data           \n",
    "    #        labels: class labels of training data\n",
    "    #        y: test data\n",
    "    \n",
    "    # ====================== ADD YOUR CODE HERE =============================\n",
    "    # Instructions: Run the kNN algorithm to predict the class of\n",
    "    #               y. Rows of X correspond to observations, columns\n",
    "    #               to features. The 'labels' vector contains the \n",
    "    #               class to which each observation of the training \n",
    "    #               data X belongs. Calculate the distance betweet y and each \n",
    "    #               row of X, find  the k closest observations and give y \n",
    "    #               the class of the majority of them.\n",
    "    \n",
    "    # Note: To compute the distance betweet two vectors A and B use\n",
    "    #       use the np.linalg.norm() function.\n",
    "    #\n",
    "    # return the label of the test data\n",
    "    \n",
    "    #First thing we want to do (once our dataset is normalized), find the distances\n",
    "        #Distance from each observation to each \n",
    "        #X-y is of shape: 2000x784 (because y is of shape 784 and X of shape 2000) \n",
    "        #We want to compute on a specific axis or np.linalg will compute until we get a scalar - here we want\n",
    "        # to compute on the columns because:  \n",
    "    distances=np.linalg.norm(X-y, axis=1)\n",
    "        #Put my input symbol to every \n",
    "        #Want to keep track of the labels, for that need the indexes that allows me to keep track (same thing as PCA)\n",
    "    idx = np.argsort(distances) #by default this will be sorted in ascending order\n",
    "        #with these indices, reorder the labels the same way \n",
    "        #perform the same permutation on the label list that allowed me to have my distances sorted\n",
    "    labels= labels[idx]\n",
    "\n",
    "        #Now, we must rearrange the distances aswell \n",
    "\n",
    "        #c the count for each label of each number to get the most represented label in my cluster \n",
    "    c = np.zeros(max(labels)+1)\n",
    "        #look into k neighbourds\n",
    "    for i in range(k):\n",
    "            #take labels of the first k and count, if i find one label in this cluster i count it \n",
    "            #we want to take the argument of the most rpz class aka what is the label we predict = the ARGMAX (bc we want the index of it)\n",
    "        c[labels[i]] += 1\n",
    "    return np.argmax(c)\n",
    "\n",
    "    #then we can play with k \n"
   ]
  },
  {
   "cell_type": "code",
   "execution_count": 52,
   "metadata": {},
   "outputs": [
    {
     "name": "stdout",
     "output_type": "stream",
     "text": [
      "Current Test Instance: 1\n",
      "Current Test Instance: 2\n",
      "Current Test Instance: 3\n",
      "Current Test Instance: 4\n",
      "Current Test Instance: 5\n",
      "Current Test Instance: 6\n",
      "Current Test Instance: 7\n",
      "Current Test Instance: 8\n",
      "Current Test Instance: 9\n",
      "Current Test Instance: 10\n",
      "Current Test Instance: 11\n",
      "Current Test Instance: 12\n",
      "Current Test Instance: 13\n",
      "Current Test Instance: 14\n",
      "Current Test Instance: 15\n",
      "Current Test Instance: 16\n",
      "Current Test Instance: 17\n",
      "Current Test Instance: 18\n",
      "Current Test Instance: 19\n",
      "Current Test Instance: 20\n",
      "Accuracy: 0.95\n"
     ]
    }
   ],
   "source": [
    "#Here we play with k to get the best performance\n",
    "k = 10\n",
    "predictedDigits = np.zeros(testImages.shape[0])\n",
    "\n",
    "for i in range(testImages.shape[0]):\n",
    "    print(\"Current Test Instance: \" + str(i+1))\n",
    "    predictedDigits[i] = kNN(k, trainingImages, trainingLabels, testImages[i,:])\n",
    "    \n",
    "# Calculate accuracy\n",
    "correct = 0\n",
    "\n",
    "for i in range(testImages.shape[0]):\n",
    "    if predictedDigits[i] == testLabels[i]:\n",
    "        correct += 1\n",
    "        \n",
    "accuracy = correct/float(testImages.shape[0])\n",
    "print(\"Accuracy: \" + str(accuracy))"
   ]
  }
 ],
 "metadata": {
  "interpreter": {
   "hash": "0adcc2737ebf6a4a119f135174df96668767fca1ef1112612db5ecadf2b6d608"
  },
  "kernelspec": {
   "display_name": "Python 3.8.5 64-bit",
   "name": "python3"
  },
  "language_info": {
   "codemirror_mode": {
    "name": "ipython",
    "version": 3
   },
   "file_extension": ".py",
   "mimetype": "text/x-python",
   "name": "python",
   "nbconvert_exporter": "python",
   "pygments_lexer": "ipython3",
   "version": "3.8.5"
  }
 },
 "nbformat": 4,
 "nbformat_minor": 2
}
