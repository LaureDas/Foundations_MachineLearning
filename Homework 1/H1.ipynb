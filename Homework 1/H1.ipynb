{
 "cells": [
  {
   "cell_type": "code",
   "execution_count": 1,
   "metadata": {},
   "outputs": [],
   "source": [
    "import sklearn\n",
    "import pandas as pd\n",
    "import matplotlib.pyplot as plt\n",
    "from sklearn.linear_model import LinearRegression\n",
    "from sklearn.model_selection import train_test_split\n",
    "from sklearn.metrics import mean_squared_error\n",
    "from sklearn.preprocessing import PolynomialFeatures\n",
    "import numpy as np"
   ]
  },
  {
   "cell_type": "code",
   "execution_count": 3,
   "metadata": {},
   "outputs": [
    {
     "data": {
      "text/plain": [
       "<AxesSubplot:xlabel='Stars', ylabel='Frequency'>"
      ]
     },
     "execution_count": 3,
     "metadata": {},
     "output_type": "execute_result"
    },
    {
     "data": {
      "image/png": "[encoded data removed]",
      "text/plain": [
       "<Figure size 432x288 with 1 Axes>"
      ]
     },
     "metadata": {
      "needs_background": "light"
     },
     "output_type": "display_data"
    }
   ],
   "source": [
    "df = pd.read_csv('amazon_reviews_us_Gift_Card_v1_00.tsv', delimiter='\\t')\n",
    "level_ratings = df['star_rating'].value_counts().sort_index()\n",
    "level_ratings.plot(color=['purple'], kind ='bar', xlabel = 'Stars', ylabel = 'Frequency')"
   ]
  },
  {
   "cell_type": "code",
   "execution_count": 32,
   "metadata": {},
   "outputs": [],
   "source": [
    "def lengthreview(input):\n",
    "    result =[]\n",
    "    result = input['review_body']\n",
    "    result = result.str.split().str.len()\n",
    "    result = result.fillna(0)\n",
    "    result= result.to_numpy().astype(float)\n",
    "    return result\n",
    "\n",
    "def verifiedpurchase(input): \n",
    "    return [1 if input['verified_purchase'][i]=='Y' else 0 for i in range (len(input))]\n",
    "    return result\n",
    "\n"
   ]
  },
  {
   "cell_type": "code",
   "execution_count": 33,
   "metadata": {},
   "outputs": [
    {
     "name": "stdout",
     "output_type": "stream",
     "text": [
      "Theta 0 is 4.854960427901718\n",
      "Theta 1 is  0.0446965527816378\n",
      "Theta 2 is  -0.0067940612591762695\n"
     ]
    }
   ],
   "source": [
    "# Create a new dataframe with the 2 features and ground truth values\n",
    "df_lr = pd.DataFrame()\n",
    "df_lr['star_rating'] = df['star_rating'] \n",
    "df_lr['verified_purchase'] = verifiedpurchase(df)\n",
    "df_lr['length_review'] = lengthreview(df)\n",
    "\n",
    "\n",
    "x = df_lr[{'verified_purchase', 'length_review'}]\n",
    "y = df_lr['star_rating']\n",
    "model = LinearRegression().fit(x,y)\n",
    "\n",
    "print('Theta 0 is ' + str(model.intercept_))\n",
    "print('Theta 1 is  ' + str(model.coef_[1]))\n",
    "print('Theta 2 is  ' + str(model.coef_[0]))"
   ]
  },
  {
   "cell_type": "code",
   "execution_count": 37,
   "metadata": {},
   "outputs": [
    {
     "name": "stdout",
     "output_type": "stream",
     "text": [
      "The MSE/ bias of the training set: 0.6200459805833953\n",
      "The MSE/ bias of the test set: 0.9568183676497632\n"
     ]
    }
   ],
   "source": [
    "df_lr_seperate = pd.DataFrame()\n",
    "df_lr_seperate['star_rating'] = df['star_rating'] \n",
    "df_lr_seperate['verified_purchase'] = verifiedpurchase(df)\n",
    "df_lr_seperate['length_review'] = lengthreview(df)\n",
    "\n",
    "\n",
    "x_seperate = df_lr_seperate[{'verified_purchase','length_review'}]\n",
    "y_seperate = df_lr_seperate['star_rating']\n",
    "x_train_seperate, x_test_seperate, y_train2_seperate, y_test_seperate = \\\n",
    "    train_test_split(x_seperate,y_seperate,  shuffle = False, test_size = 0.1,)\n",
    "model_2 = LinearRegression().fit(x_train_seperate,y_train2_seperate)\n",
    "\n",
    "y_pred_train2_seperate = model_2.predict(x_train_seperate)\n",
    "y_pred_test_seperate = model_2.predict(x_test_seperate)\n",
    "mse_train_seperate = mean_squared_error(y_train2_seperate, y_pred_train2_seperate)\n",
    "mse_test_seperate = mean_squared_error(y_test_seperate, y_pred_test_seperate)\n",
    "\n",
    "print('The MSE/ bias of the training set: ' + str(mse_train_seperate))\n",
    "print('The MSE/ bias of the test set: ' + str(mse_test_seperate))"
   ]
  },
  {
   "cell_type": "code",
   "execution_count": 39,
   "metadata": {},
   "outputs": [
    {
     "name": "stdout",
     "output_type": "stream",
     "text": [
      "The MSE/ bias of the training set: 0.594\n",
      "The MSE/ bias of the test set:: 1.06\n",
      "Thee Feature vector: \n",
      "['1', 'x0', 'x1', 'x2', 'x3', 'x0^2', 'x0 x1', 'x0 x2', 'x0 x3', 'x1^2', 'x1 x2', 'x1 x3', 'x2^2', 'x2 x3', 'x3^2']\n"
     ]
    },
    {
     "name": "stderr",
     "output_type": "stream",
     "text": [
      "/Library/Frameworks/Python.framework/Versions/3.8/lib/python3.8/site-packages/sklearn/utils/deprecation.py:87: FutureWarning: Function get_feature_names is deprecated; get_feature_names is deprecated in 1.0 and will be removed in 1.2. Please use get_feature_names_out instead.\n",
      "  warnings.warn(msg, category=FutureWarning)\n"
     ]
    }
   ],
   "source": [
    "df_lr['helpful_votes'] = df['helpful_votes']\n",
    "df_lr['total_votes'] = df['total_votes']\n",
    "y = df_lr['star_rating']\n",
    "x = df_lr[['verified_purchase','length_review', \\\n",
    "              'helpful_votes', 'total_votes']]\n",
    "\n",
    "\n",
    "polynomial_features = PolynomialFeatures(2)\n",
    "x_polynomial = polynomial_features.fit_transform(x)\n",
    "\n",
    "x_training, x_test, y_training, y_test = \\\n",
    "    train_test_split(x_polynomial, y, test_size = 0.1, shuffle = False)\n",
    "\n",
    "model_3 = LinearRegression()\n",
    "model_3.fit(x_training, y_training)\n",
    "\n",
    "feature_vec = polynomial_features.get_feature_names()\n",
    "y_pred_train = model_3.predict(x_training)\n",
    "y_pred_test = model_3.predict(x_test)\n",
    "mse_train = mean_squared_error(y_training, y_pred_train)\n",
    "mse_test = mean_squared_error(y_test, y_pred_test)\n",
    "\n",
    "print('The MSE/ bias of the training set: ' + str(round(mse_train,3)))\n",
    "print('The MSE/ bias of the test set:: ' + str(round(mse_test,3)))\n",
    "print('The feature vector is the following: \\n' + str(feature_vec))"
   ]
  }
 ],
 "metadata": {
  "interpreter": {
   "hash": "0adcc2737ebf6a4a119f135174df96668767fca1ef1112612db5ecadf2b6d608"
  },
  "kernelspec": {
   "display_name": "Python 3.8.5 64-bit",
   "name": "python3"
  },
  "language_info": {
   "codemirror_mode": {
    "name": "ipython",
    "version": 3
   },
   "file_extension": ".py",
   "mimetype": "text/x-python",
   "name": "python",
   "nbconvert_exporter": "python",
   "pygments_lexer": "ipython3",
   "version": "3.8.5"
  },
  "orig_nbformat": 4
 },
 "nbformat": 4,
 "nbformat_minor": 2
}
